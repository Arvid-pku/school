{
 "cells": [
  {
   "cell_type": "code",
   "execution_count": 1,
   "metadata": {},
   "outputs": [],
   "source": [
    "import json\n",
    "import random"
   ]
  },
  {
   "cell_type": "code",
   "execution_count": 17,
   "metadata": {},
   "outputs": [],
   "source": [
    "f = open('cyz.json', 'w')\n",
    "d = {\n",
    "\t'one': 40,\n",
    "\t'two': 20,\n",
    "\t'five': 9,\n",
    "\t'zero': 30,\n",
    "\t'ten': 1,\n",
    "\t'got': 0\n",
    "}\n",
    "json.dump(d, f)\n",
    "f.close()"
   ]
  },
  {
   "cell_type": "code",
   "execution_count": 21,
   "metadata": {},
   "outputs": [],
   "source": [
    "def get_random():\n",
    "\treturn random.randint(0, 100)"
   ]
  },
  {
   "cell_type": "code",
   "execution_count": 19,
   "metadata": {},
   "outputs": [],
   "source": [
    "p = get_random()\n",
    "def get_pros(fp):\n",
    "\tf = open(fp, 'r')\n",
    "\td = json.load(f)\n",
    "\tf.close()\n",
    "\tprint(d['zero'])\n",
    "\tpros = [d['zero'], d['zero']+d['one'], d['zero']+d['one']+d['two'], d['zero']+d['one']+d['two']+d['five'], d['zero']+d['one']+d['two']+d['five']+d['ten']]\n",
    "\treturn pros"
   ]
  },
  {
   "cell_type": "code",
   "execution_count": 20,
   "metadata": {},
   "outputs": [
    {
     "name": "stdout",
     "output_type": "stream",
     "text": [
      "30\n"
     ]
    },
    {
     "data": {
      "text/plain": [
       "[30, 70, 90, 99, 100]"
      ]
     },
     "execution_count": 20,
     "metadata": {},
     "output_type": "execute_result"
    }
   ],
   "source": [
    "get_pros('cyz.json')"
   ]
  },
  {
   "cell_type": "code",
   "execution_count": 22,
   "metadata": {},
   "outputs": [],
   "source": [
    "def openbox(name):\n",
    "\tpros = get_pros(name+'.json')\n",
    "\tif p <= pros[0]:\n",
    "\t\treturn 0\n",
    "\telif p <= pros[1]:\n",
    "\t\treturn 1\n",
    "\telif p <= pros[2]:\n",
    "\t\treturn 2\n",
    "\telif p <= pros[3]:\n",
    "\t\treturn 5\n",
    "\telif p <= pros[4]:\n",
    "\t\treturn 10\n"
   ]
  },
  {
   "cell_type": "code",
   "execution_count": 23,
   "metadata": {},
   "outputs": [],
   "source": [
    "def change_pros(name, getting):\n",
    "\tf = open(name+'.json', 'r')\n",
    "\td = json.load(f)\n",
    "\tf.close()\n",
    "\td['got'] += getting\n",
    "\td['zero'] -= getting\n",
    "\tif getting == 0:\n",
    "\t\td['zero'] -= 1\n",
    "\t\td['ten'] += 1\n",
    "\telif getting == 1:\n",
    "\t\td['one'] -= 1\n",
    "\t\td['five'] += 1\n",
    "\telif getting == 5:\n",
    "\t\td['five'] -= 1\n",
    "\t\td['one'] += 1\n",
    "\telif getting == 10:\n",
    "\t\td['ten'] -= 1\n",
    "\t\td['zero'] += 1\n",
    "\tf = open(name+'.json', 'w')\n",
    "\tjson.dump(d, f)\n",
    "\tf.close()"
   ]
  },
  {
   "cell_type": "code",
   "execution_count": null,
   "metadata": {},
   "outputs": [],
   "source": []
  }
 ],
 "metadata": {
  "kernelspec": {
   "display_name": "Python 3.9.7 ('base')",
   "language": "python",
   "name": "python3"
  },
  "language_info": {
   "codemirror_mode": {
    "name": "ipython",
    "version": 3
   },
   "file_extension": ".py",
   "mimetype": "text/x-python",
   "name": "python",
   "nbconvert_exporter": "python",
   "pygments_lexer": "ipython3",
   "version": "3.9.7"
  },
  "orig_nbformat": 4,
  "vscode": {
   "interpreter": {
    "hash": "40df05e53e1f42141473e2a45bd3b16f06596a8a1d943aa97f5eae81a0bb8714"
   }
  }
 },
 "nbformat": 4,
 "nbformat_minor": 2
}
